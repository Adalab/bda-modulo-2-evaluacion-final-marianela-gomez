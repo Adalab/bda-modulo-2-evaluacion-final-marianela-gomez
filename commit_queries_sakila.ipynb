{
 "cells": [
  {
   "cell_type": "code",
   "execution_count": 1,
   "metadata": {},
   "outputs": [],
   "source": [
    "import json\n",
    "import pandas as pd\n",
    "import mysql.connector\n",
    "from mysql.connector import errorcode\n",
    "import re"
   ]
  },
  {
   "cell_type": "code",
   "execution_count": 25,
   "metadata": {},
   "outputs": [],
   "source": [
    "cnx = mysql.connector.connect(user='root', password='AlumnaAdalab', host='127.0.0.1', database='sakila')"
   ]
  },
  {
   "cell_type": "code",
   "execution_count": 26,
   "metadata": {},
   "outputs": [],
   "source": [
    "mycursor = cnx.cursor()"
   ]
  },
  {
   "cell_type": "code",
   "execution_count": 4,
   "metadata": {},
   "outputs": [],
   "source": [
    "with open(\"bda-modulo-2-evaluacion-final-marianela-gomez/exercise_script.sql\", \"r\", encoding=\"utf-8\") as file:\n",
    "    sql_script = file.read()"
   ]
  },
  {
   "cell_type": "code",
   "execution_count": 5,
   "metadata": {},
   "outputs": [],
   "source": [
    "clean_queries = []\n",
    "     \n",
    "for query in sql_script.split(\";\"):\n",
    "    query = query.strip()\n",
    "    \n",
    "    if '--' not in query:\n",
    "        clean_queries.append(query)\n",
    "    if '#' in query:\n",
    "        query = re.sub(r'\\s#+\\s[A-Z]\\s[A-Z]\\s[A-Z]\\s[A-Z]\\s[A-Z]\\s#+\\s#+', '', query)\n",
    "        query = re.sub(r'#', '', query)\n",
    "        clean_queries.append(query)\n",
    "    if '--' in query:\n",
    "        query = re.sub(r'--.+', '', query.strip())\n",
    "        clean_queries.append(query)\n",
    "    if '/*' in query:\n",
    "        query = re.sub(r'\\s+\\/\\*\\s.*\\s.+[a-zA-Z]+.+\\s+[a-zA-Z].+\\s+[a-zA-Z].+\\s+[a-zA-Z].+\\s+[a-zA-Z].+\\s+[a-zA-Z].+', '', query)\n",
    "        clean_queries.append(query)\n",
    "   "
   ]
  },
  {
   "cell_type": "code",
   "execution_count": 6,
   "metadata": {},
   "outputs": [
    {
     "data": {
      "text/plain": [
       "['USE sakila',\n",
       " '\\n\\nSELECT DISTINCT lower(title) AS film_title\\n\\tFROM film',\n",
       " '\\n\\nSELECT lower(title) AS film_title\\n\\tFROM film \\n    WHERE rating = \"PG-13\"',\n",
       " '\\n\\nSELECT lower(title) AS film_title, lower(description)\\n\\tFROM film \\n    WHERE description LIKE (\"%amazing%\")',\n",
       " '\\n\\nSELECT lower(title) AS film_title\\n\\tFROM film \\n    WHERE length > 120',\n",
       " '\\n\\nSELECT lower(first_name) AS actor_name\\n\\tFROM actor',\n",
       " '\\n\\nSELECT CONCAT(lower(first_name), \" \", lower(last_name)) AS actor_name\\n\\tFROM actor\\n    WHERE last_name LIKE (\"Gibson\")',\n",
       " '\\n    \\nSELECT lower(first_name) AS actor_name\\n\\tFROM actor\\n    WHERE actor_id BETWEEN 10 AND 20',\n",
       " '\\n\\nSELECT lower(title) AS film_title\\n\\tFROM film \\n    WHERE rating NOT IN (\"R\", \"PG-13\")',\n",
       " '\\n\\nSELECT rating, COUNT(rating) AS num_of_films\\n\\tFROM film\\n    GROUP BY rating',\n",
       " '\\n\\nSELECT CONCAT(lower(c.first_name), \" \", lower(c.last_name)) AS customer_name, COUNT(c.customer_id) AS rented_films\\n\\tFROM customer AS c\\n    INNER JOIN rental AS r\\n    USING (customer_id)\\n    GROUP BY c.customer_id',\n",
       " '\\n\\nSELECT c.name AS category, COUNT(fc.category_id) AS rented_films\\n\\tFROM rental AS r\\n    INNER JOIN inventory AS i\\n    USING (inventory_id)\\n    INNER JOIN film_category AS fc\\n    USING (film_id)\\n    INNER JOIN category as c\\n    USING(category_id)\\n    GROUP BY fc.category_id',\n",
       " '\\n\\nSELECT rating, ROUND(AVG(length),2) AS length_in_min\\n\\tFROM film\\n    GROUP BY rating',\n",
       " '\\n\\nSELECT CONCAT(lower(first_name), \" \", lower(last_name)) AS actor_name\\n\\tFROM actor AS a\\n    INNER JOIN film_actor AS fa\\n    USING (actor_id)\\n    INNER JOIN film AS f\\n    USING(film_id)\\n    WHERE f.title = \"Indian Love\"',\n",
       " '\\n\\nSELECT lower(title) AS film_title\\n\\tFROM film\\n    WHERE description LIKE (\"%dog%\") OR description LIKE (\"%cat%\")',\n",
       " '\\n\\n/* En principio, la tabla intermedia y la relacion entre film y actor debería evitar esto. En cualquier caso, si hubiera alguno, aparecería con */\\n\\nSELECT * \\n\\tFROM film_actor\\n    WHERE film_id IS NULL',\n",
       " '',\n",
       " '\\n\\nSELECT lower(title) AS film_title, release_year\\n\\tFROM film\\n    WHERE release_year BETWEEN 2005 AND 2010',\n",
       " '\\n\\nSELECT lower(f.title) AS film_title\\n\\tFROM film as f\\n    INNER JOIN film_category AS fc\\n    USING (film_id)\\n    WHERE category_id = (\\n\\t\\t\\t\\t\\t\\tSELECT category_id\\n\\t\\t\\t\\t\\t\\t\\tFROM category\\n\\t\\t\\t\\t\\t\\t\\tWHERE name = \"Family\"\\n    )',\n",
       " '\\n\\nSELECT CONCAT(lower(a.first_name), \" \", lower(a.last_name)) AS actor_name\\n\\tFROM actor AS a\\n    INNER JOIN film_actor AS fa\\n    USING (actor_id)\\n    GROUP BY actor_name\\n    HAVING COUNT(fa.film_id) > 10',\n",
       " '\\n\\nSELECT lower(title)\\n\\tFROM film\\n    WHERE rating = \"R\" AND length > 120',\n",
       " '\\n\\nSELECT c.name, ROUND(AVG(length), 2) AS avg_length_in_min\\n\\tFROM category AS c\\n    INNER JOIN film_category AS fc\\n    USING (category_id)\\n    INNER JOIN film AS f\\n    USING (film_id)\\n    GROUP BY (c.name)\\n    HAVING AVG(length) > 120',\n",
       " '\\n\\n\\nWITH actors_in_films AS (\\n\\t\\t\\t\\t\\t\\tSELECT CONCAT(lower(a.first_name), \" \", lower(a.last_name)) AS actor_name, COUNT(fa.actor_id) AS num_of_films\\n\\t\\t\\t\\t\\t\\t\\tFROM actor AS a\\n                            INNER JOIN film_actor AS fa\\n                            USING (actor_id)\\n                            GROUP BY (fa.actor_id))\\n\\t\\t\\t\\t\\t\\nSELECT actor_name, num_of_films\\n\\tFROM actors_in_films\\n\\tWHERE num_of_films > 5',\n",
       " '\\n\\n\\nSELECT DISTINCT lower(f.title) AS film_title\\n\\tFROM rental AS r\\n    INNER JOIN inventory AS i\\n    USING (inventory_id)\\n    INNER JOIN film AS f\\n    USING (film_id)\\n    WHERE r.rental_id IN (\\n\\t\\t\\t\\t\\t\\t\\tSELECT rental_id\\n\\t\\t\\t\\t\\t\\t\\tFROM rental\\n\\t\\t\\t\\t\\t\\t\\tWHERE TIMESTAMPDIFF(DAY, rental_date, return_date) > 5\\n)',\n",
       " '\\n\\n\\nWITH actors_in_horror AS (\\n\\t\\t\\t\\t\\t\\tSELECT DISTINCT CONCAT(lower(a.first_name), \" \", lower(a.last_name)) AS actor_name\\n\\t\\t\\t\\t\\t\\t\\tFROM actor as a\\n\\t\\t\\t\\t\\t\\t\\tINNER JOIN film_actor AS fm\\n\\t\\t\\t\\t\\t\\t\\tUSING (actor_id)\\n\\t\\t\\t\\t\\t\\t\\tINNER JOIN film_category AS fc\\n\\t\\t\\t\\t\\t\\t\\tUSING (film_id)\\n\\t\\t\\t\\t\\t\\t\\tINNER JOIN category AS c\\n\\t\\t\\t\\t\\t\\t\\tUSING (category_id)\\n\\t\\t\\t\\t\\t\\t\\tWHERE c.name = \"Horror\")\\n    \\nSELECT CONCAT(lower(a.first_name), \" \", lower(a.last_name)) AS actor_name\\n\\tFROM actor AS a\\n    WHERE CONCAT(lower(a.first_name), \" \", lower(a.last_name)) NOT IN ( SELECT actor_name FROM actors_in_horror)',\n",
       " '\\n\\nSELECT lower(title) AS film\\n\\tFROM film AS f\\n    INNER JOIN film_category AS fm\\n    USING (film_id)\\n    INNER JOIN category AS c\\n    USING(category_id)\\n    WHERE c.name = \"Comedy\" AND f.length > 180',\n",
       " '\\n\\n-- Encuentra todos los actores que han actuado juntos en al menos una película. \\n-- La consulta debe mostrar el nombre y apellido de los actores y el número de películas en las que han actuado juntos.\\n\\n/* Primero: ver los actores que comparten film_id en film_actor. \\n\\tSe hace un self join cuando fa1.film_id = fa2.film_id y para evitar duplicados, se une solo si fa1.actor_id < fa2.actor_id. \\n    Así, si el 1 y el 10 están en la misma peli, cuenta solo cuando actor1 es 1 y actor2 es 10.\\n    \\n    Segundo: Agrupar por pares de actores que comparten el film_id. \\n\\t\\tAsí podemos contar los film_id en las que aparecen juntos.\\n        \\n\\tTercero: Mostrar el nombre de los actores. \\n\\t\\tComo se ha hecho un self join, habrá que hacer un join a cada film_actor para poder mostrar los nombres de actor1 y actor2*/\\n    \\nSELECT CONCAT(lower(a1.first_name), \" \", lower(a1.last_name)) AS actor_1, CONCAT(lower(a2.first_name), \" \", lower(a2.last_name)) AS actor_2, COUNT(fa1.film_id) AS films_together\\n\\tFROM film_actor AS fa1\\n    INNER JOIN film_actor AS fa2\\n    ON fa1.film_id = fa2.film_id\\n    AND fa1.actor_id < fa2.actor_id\\n    INNER JOIN actor AS a1\\n    ON fa1.actor_id = a1.actor_id\\n    INNER JOIN actor AS a2\\n    ON fa2.actor_id = a2.actor_id\\n    GROUP BY actor_1, actor_2',\n",
       " '\\n\\n\\n/* Primero: ver los actores que comparten film_id en film_actor. \\n\\tSe hace un self join cuando fa1.film_id = fa2.film_id y para evitar duplicados, se une solo si fa1.actor_id < fa2.actor_id. \\n    Así, si el 1 y el 10 están en la misma peli, cuenta solo cuando actor1 es 1 y actor2 es 10.\\n    \\n    Segundo: Agrupar por pares de actores que comparten el film_id. \\n\\t\\tAsí podemos contar los film_id en las que aparecen juntos.\\n        \\n\\tTercero: Mostrar el nombre de los actores. \\n\\t\\tComo se ha hecho un self join, habrá que hacer un join a cada film_actor para poder mostrar los nombres de actor1 y actor2*/\\n    \\nSELECT CONCAT(lower(a1.first_name), \" \", lower(a1.last_name)) AS actor_1, CONCAT(lower(a2.first_name), \" \", lower(a2.last_name)) AS actor_2, COUNT(fa1.film_id) AS films_together\\n\\tFROM film_actor AS fa1\\n    INNER JOIN film_actor AS fa2\\n    ON fa1.film_id = fa2.film_id\\n    AND fa1.actor_id < fa2.actor_id\\n    INNER JOIN actor AS a1\\n    ON fa1.actor_id = a1.actor_id\\n    INNER JOIN actor AS a2\\n    ON fa2.actor_id = a2.actor_id\\n    GROUP BY actor_1, actor_2',\n",
       " '\\n    \\nSELECT CONCAT(lower(a1.first_name), \" \", lower(a1.last_name)) AS actor_1, CONCAT(lower(a2.first_name), \" \", lower(a2.last_name)) AS actor_2, COUNT(fa1.film_id) AS films_together\\n\\tFROM film_actor AS fa1\\n    INNER JOIN film_actor AS fa2\\n    ON fa1.film_id = fa2.film_id\\n    AND fa1.actor_id < fa2.actor_id\\n    INNER JOIN actor AS a1\\n    ON fa1.actor_id = a1.actor_id\\n    INNER JOIN actor AS a2\\n    ON fa2.actor_id = a2.actor_id\\n    GROUP BY actor_1, actor_2',\n",
       " '']"
      ]
     },
     "execution_count": 6,
     "metadata": {},
     "output_type": "execute_result"
    }
   ],
   "source": [
    "clean_queries"
   ]
  },
  {
   "cell_type": "code",
   "execution_count": 8,
   "metadata": {},
   "outputs": [],
   "source": [
    "for query in clean_queries:\n",
    "    if \"\" == query:\n",
    "        clean_queries.remove(query)\n",
    "    if \"--\" in query:\n",
    "        clean_queries.remove(query)\n",
    "    if \"/*\" in query:\n",
    "        clean_queries.remove(query)"
   ]
  },
  {
   "cell_type": "code",
   "execution_count": 9,
   "metadata": {},
   "outputs": [
    {
     "data": {
      "text/plain": [
       "25"
      ]
     },
     "execution_count": 9,
     "metadata": {},
     "output_type": "execute_result"
    }
   ],
   "source": [
    "len(clean_queries)"
   ]
  },
  {
   "cell_type": "code",
   "execution_count": 31,
   "metadata": {},
   "outputs": [],
   "source": [
    "results = []\n",
    "for query in clean_queries:\n",
    "    mycursor.execute(query)\n",
    "    results.append(mycursor.fetchall())"
   ]
  },
  {
   "cell_type": "code",
   "execution_count": 41,
   "metadata": {},
   "outputs": [],
   "source": [
    "df = pd.DataFrame(results[-1])"
   ]
  },
  {
   "cell_type": "code",
   "execution_count": 43,
   "metadata": {},
   "outputs": [
    {
     "data": {
      "text/html": [
       "<div>\n",
       "<style scoped>\n",
       "    .dataframe tbody tr th:only-of-type {\n",
       "        vertical-align: middle;\n",
       "    }\n",
       "\n",
       "    .dataframe tbody tr th {\n",
       "        vertical-align: top;\n",
       "    }\n",
       "\n",
       "    .dataframe thead th {\n",
       "        text-align: right;\n",
       "    }\n",
       "</style>\n",
       "<table border=\"1\" class=\"dataframe\">\n",
       "  <thead>\n",
       "    <tr style=\"text-align: right;\">\n",
       "      <th></th>\n",
       "      <th>0</th>\n",
       "      <th>1</th>\n",
       "      <th>2</th>\n",
       "    </tr>\n",
       "  </thead>\n",
       "  <tbody>\n",
       "    <tr>\n",
       "      <th>3852</th>\n",
       "      <td>tom miranda</td>\n",
       "      <td>matthew carrey</td>\n",
       "      <td>2</td>\n",
       "    </tr>\n",
       "    <tr>\n",
       "      <th>4733</th>\n",
       "      <td>mena temple</td>\n",
       "      <td>fay winslet</td>\n",
       "      <td>1</td>\n",
       "    </tr>\n",
       "    <tr>\n",
       "      <th>4208</th>\n",
       "      <td>parker goldberg</td>\n",
       "      <td>will wilson</td>\n",
       "      <td>1</td>\n",
       "    </tr>\n",
       "    <tr>\n",
       "      <th>3548</th>\n",
       "      <td>goldie brody</td>\n",
       "      <td>ellen presley</td>\n",
       "      <td>1</td>\n",
       "    </tr>\n",
       "    <tr>\n",
       "      <th>9047</th>\n",
       "      <td>daryl crawford</td>\n",
       "      <td>morgan williams</td>\n",
       "      <td>2</td>\n",
       "    </tr>\n",
       "    <tr>\n",
       "      <th>9681</th>\n",
       "      <td>emily dee</td>\n",
       "      <td>mena hopper</td>\n",
       "      <td>1</td>\n",
       "    </tr>\n",
       "    <tr>\n",
       "      <th>6599</th>\n",
       "      <td>scarlett damon</td>\n",
       "      <td>jon chase</td>\n",
       "      <td>3</td>\n",
       "    </tr>\n",
       "    <tr>\n",
       "      <th>847</th>\n",
       "      <td>joe swank</td>\n",
       "      <td>kirsten akroyd</td>\n",
       "      <td>1</td>\n",
       "    </tr>\n",
       "    <tr>\n",
       "      <th>9419</th>\n",
       "      <td>ewan gooding</td>\n",
       "      <td>jon chase</td>\n",
       "      <td>1</td>\n",
       "    </tr>\n",
       "    <tr>\n",
       "      <th>5639</th>\n",
       "      <td>angela hudson</td>\n",
       "      <td>harvey hope</td>\n",
       "      <td>1</td>\n",
       "    </tr>\n",
       "  </tbody>\n",
       "</table>\n",
       "</div>"
      ],
      "text/plain": [
       "                    0                1  2\n",
       "3852      tom miranda   matthew carrey  2\n",
       "4733      mena temple      fay winslet  1\n",
       "4208  parker goldberg      will wilson  1\n",
       "3548     goldie brody    ellen presley  1\n",
       "9047   daryl crawford  morgan williams  2\n",
       "9681        emily dee      mena hopper  1\n",
       "6599   scarlett damon        jon chase  3\n",
       "847         joe swank   kirsten akroyd  1\n",
       "9419     ewan gooding        jon chase  1\n",
       "5639    angela hudson      harvey hope  1"
      ]
     },
     "execution_count": 43,
     "metadata": {},
     "output_type": "execute_result"
    }
   ],
   "source": [
    "df.sample(10)"
   ]
  },
  {
   "cell_type": "code",
   "execution_count": 46,
   "metadata": {},
   "outputs": [
    {
     "name": "stderr",
     "output_type": "stream",
     "text": [
      "C:\\Users\\maria\\AppData\\Local\\Temp\\ipykernel_24612\\1034347106.py:1: UserWarning: pandas only supports SQLAlchemy connectable (engine/connection) or database string URI or sqlite3 DBAPI2 connection. Other DBAPI2 objects are not tested. Please consider using SQLAlchemy.\n",
      "  df_2 = pd.read_sql_query(clean_queries[-1], cnx)\n"
     ]
    }
   ],
   "source": [
    "df_2 = pd.read_sql_query(clean_queries[-1], cnx)"
   ]
  },
  {
   "cell_type": "code",
   "execution_count": 47,
   "metadata": {},
   "outputs": [
    {
     "data": {
      "text/html": [
       "<div>\n",
       "<style scoped>\n",
       "    .dataframe tbody tr th:only-of-type {\n",
       "        vertical-align: middle;\n",
       "    }\n",
       "\n",
       "    .dataframe tbody tr th {\n",
       "        vertical-align: top;\n",
       "    }\n",
       "\n",
       "    .dataframe thead th {\n",
       "        text-align: right;\n",
       "    }\n",
       "</style>\n",
       "<table border=\"1\" class=\"dataframe\">\n",
       "  <thead>\n",
       "    <tr style=\"text-align: right;\">\n",
       "      <th></th>\n",
       "      <th>actor_1</th>\n",
       "      <th>actor_2</th>\n",
       "      <th>films_together</th>\n",
       "    </tr>\n",
       "  </thead>\n",
       "  <tbody>\n",
       "    <tr>\n",
       "      <th>2258</th>\n",
       "      <td>cameron streep</td>\n",
       "      <td>groucho williams</td>\n",
       "      <td>1</td>\n",
       "    </tr>\n",
       "    <tr>\n",
       "      <th>1878</th>\n",
       "      <td>lucille tracy</td>\n",
       "      <td>minnie kilmer</td>\n",
       "      <td>1</td>\n",
       "    </tr>\n",
       "    <tr>\n",
       "      <th>7537</th>\n",
       "      <td>gene willis</td>\n",
       "      <td>renee tracy</td>\n",
       "      <td>1</td>\n",
       "    </tr>\n",
       "    <tr>\n",
       "      <th>1302</th>\n",
       "      <td>vivien bergen</td>\n",
       "      <td>whoopi hurt</td>\n",
       "      <td>2</td>\n",
       "    </tr>\n",
       "    <tr>\n",
       "      <th>4287</th>\n",
       "      <td>julia barrymore</td>\n",
       "      <td>harvey hope</td>\n",
       "      <td>1</td>\n",
       "    </tr>\n",
       "    <tr>\n",
       "      <th>3516</th>\n",
       "      <td>tom mckellen</td>\n",
       "      <td>mary keitel</td>\n",
       "      <td>1</td>\n",
       "    </tr>\n",
       "    <tr>\n",
       "      <th>186</th>\n",
       "      <td>ed chase</td>\n",
       "      <td>uma wood</td>\n",
       "      <td>3</td>\n",
       "    </tr>\n",
       "    <tr>\n",
       "      <th>1359</th>\n",
       "      <td>vivien bergen</td>\n",
       "      <td>gene mckellen</td>\n",
       "      <td>1</td>\n",
       "    </tr>\n",
       "    <tr>\n",
       "      <th>1558</th>\n",
       "      <td>fred costner</td>\n",
       "      <td>reese west</td>\n",
       "      <td>2</td>\n",
       "    </tr>\n",
       "    <tr>\n",
       "      <th>1223</th>\n",
       "      <td>uma wood</td>\n",
       "      <td>tim hackman</td>\n",
       "      <td>1</td>\n",
       "    </tr>\n",
       "  </tbody>\n",
       "</table>\n",
       "</div>"
      ],
      "text/plain": [
       "              actor_1           actor_2  films_together\n",
       "2258   cameron streep  groucho williams               1\n",
       "1878    lucille tracy     minnie kilmer               1\n",
       "7537      gene willis       renee tracy               1\n",
       "1302    vivien bergen       whoopi hurt               2\n",
       "4287  julia barrymore       harvey hope               1\n",
       "3516     tom mckellen       mary keitel               1\n",
       "186          ed chase          uma wood               3\n",
       "1359    vivien bergen     gene mckellen               1\n",
       "1558     fred costner        reese west               2\n",
       "1223         uma wood       tim hackman               1"
      ]
     },
     "execution_count": 47,
     "metadata": {},
     "output_type": "execute_result"
    }
   ],
   "source": [
    "df_2.sample(10)"
   ]
  }
 ],
 "metadata": {
  "kernelspec": {
   "display_name": "base",
   "language": "python",
   "name": "python3"
  },
  "language_info": {
   "codemirror_mode": {
    "name": "ipython",
    "version": 3
   },
   "file_extension": ".py",
   "mimetype": "text/x-python",
   "name": "python",
   "nbconvert_exporter": "python",
   "pygments_lexer": "ipython3",
   "version": "3.12.7"
  }
 },
 "nbformat": 4,
 "nbformat_minor": 2
}
